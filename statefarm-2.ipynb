{
 "cells": [
  {
   "cell_type": "code",
   "execution_count": 1,
   "metadata": {
    "ExecuteTime": {
     "end_time": "2019-04-11T04:26:06.037422Z",
     "start_time": "2019-04-11T04:26:04.283311Z"
    },
    "colab": {},
    "colab_type": "code",
    "id": "nMLZbB2abZ2_"
   },
   "outputs": [],
   "source": [
    "#Load libraries that would be required for execution\n",
    "import pandas as pd\n",
    "import numpy as np\n",
    "import seaborn as sns\n",
    "import matplotlib.pyplot as plt\n",
    "from sklearn.base import BaseEstimator, TransformerMixin\n",
    "from sklearn.preprocessing import Imputer, LabelEncoder, StandardScaler, OneHotEncoder\n",
    "from sklearn.impute import SimpleImputer\n",
    "from sklearn.pipeline import FeatureUnion, Pipeline\n",
    "import xgboost as xgb\n",
    "from xgboost import XGBClassifier\n",
    "from sklearn.ensemble import RandomForestClassifier\n",
    "from sklearn.tree import DecisionTreeClassifier\n",
    "from sklearn.model_selection import train_test_split\n",
    "from sklearn.ensemble import RandomForestClassifier\n",
    "from sklearn.metrics import accuracy_score\n",
    "from sklearn.metrics import roc_auc_score\n",
    "%matplotlib inline"
   ]
  },
  {
   "cell_type": "code",
   "execution_count": 2,
   "metadata": {
    "ExecuteTime": {
     "end_time": "2019-04-11T04:26:55.950370Z",
     "start_time": "2019-04-11T04:26:54.761403Z"
    },
    "colab": {
     "base_uri": "https://localhost:8080/",
     "height": 34
    },
    "colab_type": "code",
    "id": "kBL2xV3KHhkE",
    "outputId": "582c4d55-497d-4a22-f6ab-8e738a3ae147"
   },
   "outputs": [],
   "source": [
    "# Load the train and test data to dataframe\n",
    "train_data = pd.read_csv(\"exercise_05_train.csv\")\n",
    "test_data = pd.read_csv(\"exercise_05_test.csv\")"
   ]
  },
  {
   "cell_type": "code",
   "execution_count": 3,
   "metadata": {
    "ExecuteTime": {
     "end_time": "2019-04-11T04:27:05.027030Z",
     "start_time": "2019-04-11T04:27:05.021889Z"
    },
    "colab": {
     "base_uri": "https://localhost:8080/",
     "height": 102
    },
    "colab_type": "code",
    "id": "NmKtNOBdWbyD",
    "outputId": "bb37567d-1853-4d03-a2ff-6afb84472ee8"
   },
   "outputs": [
    {
     "data": {
      "text/plain": [
       "(40000, 101)"
      ]
     },
     "execution_count": 3,
     "metadata": {},
     "output_type": "execute_result"
    }
   ],
   "source": [
    "# Determine the number of rows and columns in the data\n",
    "train_data.shape"
   ]
  },
  {
   "cell_type": "code",
   "execution_count": 4,
   "metadata": {
    "ExecuteTime": {
     "end_time": "2019-04-11T04:27:15.125894Z",
     "start_time": "2019-04-11T04:27:15.103503Z"
    },
    "colab": {
     "base_uri": "https://localhost:8080/",
     "height": 546
    },
    "colab_type": "code",
    "id": "RHuVOZEwWfym",
    "outputId": "45041c9f-05b0-4d14-c6c9-5dfa1777a6d2"
   },
   "outputs": [
    {
     "data": {
      "text/html": [
       "<div>\n",
       "<style scoped>\n",
       "    .dataframe tbody tr th:only-of-type {\n",
       "        vertical-align: middle;\n",
       "    }\n",
       "\n",
       "    .dataframe tbody tr th {\n",
       "        vertical-align: top;\n",
       "    }\n",
       "\n",
       "    .dataframe thead th {\n",
       "        text-align: right;\n",
       "    }\n",
       "</style>\n",
       "<table border=\"1\" class=\"dataframe\">\n",
       "  <thead>\n",
       "    <tr style=\"text-align: right;\">\n",
       "      <th></th>\n",
       "      <th>x0</th>\n",
       "      <th>x1</th>\n",
       "      <th>x2</th>\n",
       "      <th>x3</th>\n",
       "      <th>x4</th>\n",
       "      <th>x5</th>\n",
       "      <th>x6</th>\n",
       "      <th>x7</th>\n",
       "      <th>x8</th>\n",
       "      <th>x9</th>\n",
       "      <th>...</th>\n",
       "      <th>x91</th>\n",
       "      <th>x92</th>\n",
       "      <th>x93</th>\n",
       "      <th>x94</th>\n",
       "      <th>x95</th>\n",
       "      <th>x96</th>\n",
       "      <th>x97</th>\n",
       "      <th>x98</th>\n",
       "      <th>x99</th>\n",
       "      <th>y</th>\n",
       "    </tr>\n",
       "  </thead>\n",
       "  <tbody>\n",
       "    <tr>\n",
       "      <th>0</th>\n",
       "      <td>0.963686</td>\n",
       "      <td>6.627185</td>\n",
       "      <td>-45.224008</td>\n",
       "      <td>9.477531</td>\n",
       "      <td>-3.216532</td>\n",
       "      <td>13.216874</td>\n",
       "      <td>9.754747</td>\n",
       "      <td>5.245851</td>\n",
       "      <td>-1.102918</td>\n",
       "      <td>-2.867482</td>\n",
       "      <td>...</td>\n",
       "      <td>0.988829</td>\n",
       "      <td>0.313772</td>\n",
       "      <td>asia</td>\n",
       "      <td>1.380664</td>\n",
       "      <td>-16.388994</td>\n",
       "      <td>5.326730</td>\n",
       "      <td>4.187294</td>\n",
       "      <td>0.045549</td>\n",
       "      <td>-3.646841</td>\n",
       "      <td>0</td>\n",
       "    </tr>\n",
       "    <tr>\n",
       "      <th>1</th>\n",
       "      <td>-1.770062</td>\n",
       "      <td>-23.610459</td>\n",
       "      <td>-0.964003</td>\n",
       "      <td>-31.981497</td>\n",
       "      <td>-10.294599</td>\n",
       "      <td>-10.240251</td>\n",
       "      <td>-1.518888</td>\n",
       "      <td>-1.675208</td>\n",
       "      <td>0.498134</td>\n",
       "      <td>-0.614390</td>\n",
       "      <td>...</td>\n",
       "      <td>-2.162863</td>\n",
       "      <td>1.809807</td>\n",
       "      <td>asia</td>\n",
       "      <td>2.500590</td>\n",
       "      <td>4.338834</td>\n",
       "      <td>-1.583225</td>\n",
       "      <td>-1.172417</td>\n",
       "      <td>0.011216</td>\n",
       "      <td>0.097180</td>\n",
       "      <td>0</td>\n",
       "    </tr>\n",
       "    <tr>\n",
       "      <th>2</th>\n",
       "      <td>9.962401</td>\n",
       "      <td>-8.349849</td>\n",
       "      <td>23.248891</td>\n",
       "      <td>-24.196879</td>\n",
       "      <td>8.937480</td>\n",
       "      <td>10.965000</td>\n",
       "      <td>-7.490596</td>\n",
       "      <td>-3.025094</td>\n",
       "      <td>0.595807</td>\n",
       "      <td>0.382732</td>\n",
       "      <td>...</td>\n",
       "      <td>1.779660</td>\n",
       "      <td>9.528113</td>\n",
       "      <td>asia</td>\n",
       "      <td>1.396475</td>\n",
       "      <td>7.839188</td>\n",
       "      <td>10.402396</td>\n",
       "      <td>1.288991</td>\n",
       "      <td>0.008209</td>\n",
       "      <td>-4.132316</td>\n",
       "      <td>0</td>\n",
       "    </tr>\n",
       "    <tr>\n",
       "      <th>3</th>\n",
       "      <td>-5.780709</td>\n",
       "      <td>-25.261584</td>\n",
       "      <td>1.383115</td>\n",
       "      <td>-11.786929</td>\n",
       "      <td>7.993078</td>\n",
       "      <td>-11.245752</td>\n",
       "      <td>-2.607351</td>\n",
       "      <td>-3.513896</td>\n",
       "      <td>-0.614235</td>\n",
       "      <td>-1.453979</td>\n",
       "      <td>...</td>\n",
       "      <td>-0.203206</td>\n",
       "      <td>4.892248</td>\n",
       "      <td>asia</td>\n",
       "      <td>0.744317</td>\n",
       "      <td>7.380982</td>\n",
       "      <td>7.599323</td>\n",
       "      <td>-8.022884</td>\n",
       "      <td>-0.067624</td>\n",
       "      <td>-1.796198</td>\n",
       "      <td>0</td>\n",
       "    </tr>\n",
       "    <tr>\n",
       "      <th>4</th>\n",
       "      <td>1.211541</td>\n",
       "      <td>1.119963</td>\n",
       "      <td>7.512938</td>\n",
       "      <td>21.987312</td>\n",
       "      <td>-5.155392</td>\n",
       "      <td>10.339416</td>\n",
       "      <td>3.045180</td>\n",
       "      <td>-0.619230</td>\n",
       "      <td>-0.928068</td>\n",
       "      <td>0.405024</td>\n",
       "      <td>...</td>\n",
       "      <td>0.248724</td>\n",
       "      <td>18.694990</td>\n",
       "      <td>asia</td>\n",
       "      <td>1.703196</td>\n",
       "      <td>-11.552129</td>\n",
       "      <td>0.381768</td>\n",
       "      <td>-3.550471</td>\n",
       "      <td>-0.055180</td>\n",
       "      <td>-3.344490</td>\n",
       "      <td>0</td>\n",
       "    </tr>\n",
       "  </tbody>\n",
       "</table>\n",
       "<p>5 rows × 101 columns</p>\n",
       "</div>"
      ],
      "text/plain": [
       "         x0         x1         x2         x3         x4         x5        x6  \\\n",
       "0  0.963686   6.627185 -45.224008   9.477531  -3.216532  13.216874  9.754747   \n",
       "1 -1.770062 -23.610459  -0.964003 -31.981497 -10.294599 -10.240251 -1.518888   \n",
       "2  9.962401  -8.349849  23.248891 -24.196879   8.937480  10.965000 -7.490596   \n",
       "3 -5.780709 -25.261584   1.383115 -11.786929   7.993078 -11.245752 -2.607351   \n",
       "4  1.211541   1.119963   7.512938  21.987312  -5.155392  10.339416  3.045180   \n",
       "\n",
       "         x7        x8        x9 ...       x91        x92   x93       x94  \\\n",
       "0  5.245851 -1.102918 -2.867482 ...  0.988829   0.313772  asia  1.380664   \n",
       "1 -1.675208  0.498134 -0.614390 ... -2.162863   1.809807  asia  2.500590   \n",
       "2 -3.025094  0.595807  0.382732 ...  1.779660   9.528113  asia  1.396475   \n",
       "3 -3.513896 -0.614235 -1.453979 ... -0.203206   4.892248  asia  0.744317   \n",
       "4 -0.619230 -0.928068  0.405024 ...  0.248724  18.694990  asia  1.703196   \n",
       "\n",
       "         x95        x96       x97       x98       x99  y  \n",
       "0 -16.388994   5.326730  4.187294  0.045549 -3.646841  0  \n",
       "1   4.338834  -1.583225 -1.172417  0.011216  0.097180  0  \n",
       "2   7.839188  10.402396  1.288991  0.008209 -4.132316  0  \n",
       "3   7.380982   7.599323 -8.022884 -0.067624 -1.796198  0  \n",
       "4 -11.552129   0.381768 -3.550471 -0.055180 -3.344490  0  \n",
       "\n",
       "[5 rows x 101 columns]"
      ]
     },
     "execution_count": 4,
     "metadata": {},
     "output_type": "execute_result"
    }
   ],
   "source": [
    "#Take a glimpse of at dataframe\n",
    "train_data.head()"
   ]
  },
  {
   "cell_type": "code",
   "execution_count": 9,
   "metadata": {
    "ExecuteTime": {
     "end_time": "2019-04-11T04:28:28.021053Z",
     "start_time": "2019-04-11T04:28:28.016373Z"
    },
    "colab": {
     "base_uri": "https://localhost:8080/",
     "height": 453
    },
    "colab_type": "code",
    "id": "B3T_lHNyTx5V",
    "outputId": "c517945e-65a6-4415-e270-85b3b456a12d"
   },
   "outputs": [
    {
     "name": "stdout",
     "output_type": "stream",
     "text": [
      "<class 'pandas.core.frame.DataFrame'>\n",
      "RangeIndex: 40000 entries, 0 to 39999\n",
      "Columns: 101 entries, x0 to y\n",
      "dtypes: float64(94), int64(1), object(6)\n",
      "memory usage: 30.8+ MB\n"
     ]
    }
   ],
   "source": [
    "# Get a description of the data\n",
    "train_data.info()"
   ]
  },
  {
   "cell_type": "code",
   "execution_count": 6,
   "metadata": {
    "ExecuteTime": {
     "end_time": "2019-04-11T04:27:35.459573Z",
     "start_time": "2019-04-11T04:27:35.104601Z"
    },
    "colab": {
     "base_uri": "https://localhost:8080/",
     "height": 470
    },
    "colab_type": "code",
    "id": "zcU9yNIdHVm4",
    "outputId": "e6eb8c73-505c-4670-c2e2-487bfb77ddbb"
   },
   "outputs": [
    {
     "data": {
      "text/html": [
       "<div>\n",
       "<style scoped>\n",
       "    .dataframe tbody tr th:only-of-type {\n",
       "        vertical-align: middle;\n",
       "    }\n",
       "\n",
       "    .dataframe tbody tr th {\n",
       "        vertical-align: top;\n",
       "    }\n",
       "\n",
       "    .dataframe thead th {\n",
       "        text-align: right;\n",
       "    }\n",
       "</style>\n",
       "<table border=\"1\" class=\"dataframe\">\n",
       "  <thead>\n",
       "    <tr style=\"text-align: right;\">\n",
       "      <th></th>\n",
       "      <th>x0</th>\n",
       "      <th>x1</th>\n",
       "      <th>x2</th>\n",
       "      <th>x3</th>\n",
       "      <th>x4</th>\n",
       "      <th>x5</th>\n",
       "      <th>x6</th>\n",
       "      <th>x7</th>\n",
       "      <th>x8</th>\n",
       "      <th>x9</th>\n",
       "      <th>...</th>\n",
       "      <th>x90</th>\n",
       "      <th>x91</th>\n",
       "      <th>x92</th>\n",
       "      <th>x94</th>\n",
       "      <th>x95</th>\n",
       "      <th>x96</th>\n",
       "      <th>x97</th>\n",
       "      <th>x98</th>\n",
       "      <th>x99</th>\n",
       "      <th>y</th>\n",
       "    </tr>\n",
       "  </thead>\n",
       "  <tbody>\n",
       "    <tr>\n",
       "      <th>count</th>\n",
       "      <td>39988.000000</td>\n",
       "      <td>39990.000000</td>\n",
       "      <td>39993.000000</td>\n",
       "      <td>39987.000000</td>\n",
       "      <td>39993.000000</td>\n",
       "      <td>39992.000000</td>\n",
       "      <td>39991.000000</td>\n",
       "      <td>39990.000000</td>\n",
       "      <td>39994.000000</td>\n",
       "      <td>39993.000000</td>\n",
       "      <td>...</td>\n",
       "      <td>39993.000000</td>\n",
       "      <td>39998.000000</td>\n",
       "      <td>39994.000000</td>\n",
       "      <td>39991.000000</td>\n",
       "      <td>39993.000000</td>\n",
       "      <td>39986.000000</td>\n",
       "      <td>39991.000000</td>\n",
       "      <td>39996.000000</td>\n",
       "      <td>39987.000000</td>\n",
       "      <td>40000.000000</td>\n",
       "    </tr>\n",
       "    <tr>\n",
       "      <th>mean</th>\n",
       "      <td>2.020255</td>\n",
       "      <td>-3.924559</td>\n",
       "      <td>1.006619</td>\n",
       "      <td>-1.378330</td>\n",
       "      <td>0.070199</td>\n",
       "      <td>-0.715213</td>\n",
       "      <td>-0.002706</td>\n",
       "      <td>-0.025689</td>\n",
       "      <td>-0.354808</td>\n",
       "      <td>-0.017024</td>\n",
       "      <td>...</td>\n",
       "      <td>-11.953656</td>\n",
       "      <td>0.002118</td>\n",
       "      <td>0.024486</td>\n",
       "      <td>-0.012012</td>\n",
       "      <td>0.019123</td>\n",
       "      <td>-0.317345</td>\n",
       "      <td>-0.562453</td>\n",
       "      <td>0.000484</td>\n",
       "      <td>0.179715</td>\n",
       "      <td>0.203675</td>\n",
       "    </tr>\n",
       "    <tr>\n",
       "      <th>std</th>\n",
       "      <td>9.590599</td>\n",
       "      <td>18.768656</td>\n",
       "      <td>21.062970</td>\n",
       "      <td>29.397779</td>\n",
       "      <td>20.243287</td>\n",
       "      <td>18.268807</td>\n",
       "      <td>6.789876</td>\n",
       "      <td>5.600785</td>\n",
       "      <td>1.598967</td>\n",
       "      <td>1.346529</td>\n",
       "      <td>...</td>\n",
       "      <td>132.765199</td>\n",
       "      <td>1.643530</td>\n",
       "      <td>7.222472</td>\n",
       "      <td>2.813507</td>\n",
       "      <td>8.553992</td>\n",
       "      <td>9.321339</td>\n",
       "      <td>4.050658</td>\n",
       "      <td>0.060034</td>\n",
       "      <td>4.506750</td>\n",
       "      <td>0.402735</td>\n",
       "    </tr>\n",
       "    <tr>\n",
       "      <th>min</th>\n",
       "      <td>-36.842503</td>\n",
       "      <td>-79.156374</td>\n",
       "      <td>-89.728356</td>\n",
       "      <td>-126.652341</td>\n",
       "      <td>-76.412886</td>\n",
       "      <td>-73.743342</td>\n",
       "      <td>-26.354840</td>\n",
       "      <td>-21.541786</td>\n",
       "      <td>-6.567005</td>\n",
       "      <td>-5.278747</td>\n",
       "      <td>...</td>\n",
       "      <td>-580.645686</td>\n",
       "      <td>-6.353465</td>\n",
       "      <td>-31.445868</td>\n",
       "      <td>-12.188410</td>\n",
       "      <td>-38.965443</td>\n",
       "      <td>-42.409405</td>\n",
       "      <td>-16.287032</td>\n",
       "      <td>-0.250606</td>\n",
       "      <td>-18.876474</td>\n",
       "      <td>0.000000</td>\n",
       "    </tr>\n",
       "    <tr>\n",
       "      <th>25%</th>\n",
       "      <td>-4.461433</td>\n",
       "      <td>-16.591552</td>\n",
       "      <td>-13.230956</td>\n",
       "      <td>-21.297149</td>\n",
       "      <td>-13.580632</td>\n",
       "      <td>-13.092873</td>\n",
       "      <td>-4.611958</td>\n",
       "      <td>-3.803039</td>\n",
       "      <td>-1.423225</td>\n",
       "      <td>-0.918678</td>\n",
       "      <td>...</td>\n",
       "      <td>-100.071802</td>\n",
       "      <td>-1.107204</td>\n",
       "      <td>-4.860456</td>\n",
       "      <td>-1.924613</td>\n",
       "      <td>-5.730549</td>\n",
       "      <td>-6.561087</td>\n",
       "      <td>-3.293697</td>\n",
       "      <td>-0.039977</td>\n",
       "      <td>-2.879191</td>\n",
       "      <td>0.000000</td>\n",
       "    </tr>\n",
       "    <tr>\n",
       "      <th>50%</th>\n",
       "      <td>2.022412</td>\n",
       "      <td>-4.061703</td>\n",
       "      <td>1.184946</td>\n",
       "      <td>-1.224625</td>\n",
       "      <td>0.091600</td>\n",
       "      <td>-0.657601</td>\n",
       "      <td>0.005821</td>\n",
       "      <td>-0.002787</td>\n",
       "      <td>-0.355350</td>\n",
       "      <td>-0.029236</td>\n",
       "      <td>...</td>\n",
       "      <td>-9.456756</td>\n",
       "      <td>-0.007369</td>\n",
       "      <td>0.011971</td>\n",
       "      <td>-0.001604</td>\n",
       "      <td>0.078915</td>\n",
       "      <td>-0.228287</td>\n",
       "      <td>-0.548699</td>\n",
       "      <td>0.000486</td>\n",
       "      <td>0.171954</td>\n",
       "      <td>0.000000</td>\n",
       "    </tr>\n",
       "    <tr>\n",
       "      <th>75%</th>\n",
       "      <td>8.389979</td>\n",
       "      <td>8.529110</td>\n",
       "      <td>15.221205</td>\n",
       "      <td>18.530623</td>\n",
       "      <td>13.722427</td>\n",
       "      <td>11.610239</td>\n",
       "      <td>4.519461</td>\n",
       "      <td>3.739330</td>\n",
       "      <td>0.717467</td>\n",
       "      <td>0.886102</td>\n",
       "      <td>...</td>\n",
       "      <td>78.150364</td>\n",
       "      <td>1.111249</td>\n",
       "      <td>4.881166</td>\n",
       "      <td>1.886416</td>\n",
       "      <td>5.827534</td>\n",
       "      <td>5.939217</td>\n",
       "      <td>2.138787</td>\n",
       "      <td>0.041186</td>\n",
       "      <td>3.237456</td>\n",
       "      <td>0.000000</td>\n",
       "    </tr>\n",
       "    <tr>\n",
       "      <th>max</th>\n",
       "      <td>44.478690</td>\n",
       "      <td>77.682652</td>\n",
       "      <td>84.625640</td>\n",
       "      <td>117.004453</td>\n",
       "      <td>85.934044</td>\n",
       "      <td>74.465465</td>\n",
       "      <td>33.866723</td>\n",
       "      <td>27.609576</td>\n",
       "      <td>8.180336</td>\n",
       "      <td>5.179831</td>\n",
       "      <td>...</td>\n",
       "      <td>520.261927</td>\n",
       "      <td>7.432107</td>\n",
       "      <td>30.457771</td>\n",
       "      <td>11.852046</td>\n",
       "      <td>35.543669</td>\n",
       "      <td>38.649613</td>\n",
       "      <td>17.069095</td>\n",
       "      <td>0.221392</td>\n",
       "      <td>18.097897</td>\n",
       "      <td>1.000000</td>\n",
       "    </tr>\n",
       "  </tbody>\n",
       "</table>\n",
       "<p>8 rows × 95 columns</p>\n",
       "</div>"
      ],
      "text/plain": [
       "                 x0            x1            x2            x3            x4  \\\n",
       "count  39988.000000  39990.000000  39993.000000  39987.000000  39993.000000   \n",
       "mean       2.020255     -3.924559      1.006619     -1.378330      0.070199   \n",
       "std        9.590599     18.768656     21.062970     29.397779     20.243287   \n",
       "min      -36.842503    -79.156374    -89.728356   -126.652341    -76.412886   \n",
       "25%       -4.461433    -16.591552    -13.230956    -21.297149    -13.580632   \n",
       "50%        2.022412     -4.061703      1.184946     -1.224625      0.091600   \n",
       "75%        8.389979      8.529110     15.221205     18.530623     13.722427   \n",
       "max       44.478690     77.682652     84.625640    117.004453     85.934044   \n",
       "\n",
       "                 x5            x6            x7            x8            x9  \\\n",
       "count  39992.000000  39991.000000  39990.000000  39994.000000  39993.000000   \n",
       "mean      -0.715213     -0.002706     -0.025689     -0.354808     -0.017024   \n",
       "std       18.268807      6.789876      5.600785      1.598967      1.346529   \n",
       "min      -73.743342    -26.354840    -21.541786     -6.567005     -5.278747   \n",
       "25%      -13.092873     -4.611958     -3.803039     -1.423225     -0.918678   \n",
       "50%       -0.657601      0.005821     -0.002787     -0.355350     -0.029236   \n",
       "75%       11.610239      4.519461      3.739330      0.717467      0.886102   \n",
       "max       74.465465     33.866723     27.609576      8.180336      5.179831   \n",
       "\n",
       "           ...                x90           x91           x92           x94  \\\n",
       "count      ...       39993.000000  39998.000000  39994.000000  39991.000000   \n",
       "mean       ...         -11.953656      0.002118      0.024486     -0.012012   \n",
       "std        ...         132.765199      1.643530      7.222472      2.813507   \n",
       "min        ...        -580.645686     -6.353465    -31.445868    -12.188410   \n",
       "25%        ...        -100.071802     -1.107204     -4.860456     -1.924613   \n",
       "50%        ...          -9.456756     -0.007369      0.011971     -0.001604   \n",
       "75%        ...          78.150364      1.111249      4.881166      1.886416   \n",
       "max        ...         520.261927      7.432107     30.457771     11.852046   \n",
       "\n",
       "                x95           x96           x97           x98           x99  \\\n",
       "count  39993.000000  39986.000000  39991.000000  39996.000000  39987.000000   \n",
       "mean       0.019123     -0.317345     -0.562453      0.000484      0.179715   \n",
       "std        8.553992      9.321339      4.050658      0.060034      4.506750   \n",
       "min      -38.965443    -42.409405    -16.287032     -0.250606    -18.876474   \n",
       "25%       -5.730549     -6.561087     -3.293697     -0.039977     -2.879191   \n",
       "50%        0.078915     -0.228287     -0.548699      0.000486      0.171954   \n",
       "75%        5.827534      5.939217      2.138787      0.041186      3.237456   \n",
       "max       35.543669     38.649613     17.069095      0.221392     18.097897   \n",
       "\n",
       "                  y  \n",
       "count  40000.000000  \n",
       "mean       0.203675  \n",
       "std        0.402735  \n",
       "min        0.000000  \n",
       "25%        0.000000  \n",
       "50%        0.000000  \n",
       "75%        0.000000  \n",
       "max        1.000000  \n",
       "\n",
       "[8 rows x 95 columns]"
      ]
     },
     "execution_count": 6,
     "metadata": {},
     "output_type": "execute_result"
    }
   ],
   "source": [
    "# Get summary statistics of the dataframe\n",
    "train_data.describe()"
   ]
  },
  {
   "cell_type": "code",
   "execution_count": 7,
   "metadata": {
    "ExecuteTime": {
     "end_time": "2019-04-11T04:27:49.917558Z",
     "start_time": "2019-04-11T04:27:49.897518Z"
    },
    "colab": {
     "base_uri": "https://localhost:8080/",
     "height": 102
    },
    "colab_type": "code",
    "id": "kQZ4P0yrHb5z",
    "outputId": "c18a4b30-77f1-43cc-91d3-fb34b1fb3547"
   },
   "outputs": [
    {
     "data": {
      "text/html": [
       "<div>\n",
       "<style scoped>\n",
       "    .dataframe tbody tr th:only-of-type {\n",
       "        vertical-align: middle;\n",
       "    }\n",
       "\n",
       "    .dataframe tbody tr th {\n",
       "        vertical-align: top;\n",
       "    }\n",
       "\n",
       "    .dataframe thead th {\n",
       "        text-align: right;\n",
       "    }\n",
       "</style>\n",
       "<table border=\"1\" class=\"dataframe\">\n",
       "  <thead>\n",
       "    <tr style=\"text-align: right;\">\n",
       "      <th></th>\n",
       "      <th>x0</th>\n",
       "      <th>x1</th>\n",
       "      <th>x2</th>\n",
       "      <th>x3</th>\n",
       "      <th>x4</th>\n",
       "      <th>x5</th>\n",
       "      <th>x6</th>\n",
       "      <th>x7</th>\n",
       "      <th>x8</th>\n",
       "      <th>x9</th>\n",
       "      <th>...</th>\n",
       "      <th>x90</th>\n",
       "      <th>x91</th>\n",
       "      <th>x92</th>\n",
       "      <th>x93</th>\n",
       "      <th>x94</th>\n",
       "      <th>x95</th>\n",
       "      <th>x96</th>\n",
       "      <th>x97</th>\n",
       "      <th>x98</th>\n",
       "      <th>x99</th>\n",
       "    </tr>\n",
       "  </thead>\n",
       "  <tbody>\n",
       "    <tr>\n",
       "      <th>0</th>\n",
       "      <td>0.519093</td>\n",
       "      <td>-4.606038</td>\n",
       "      <td>13.707586</td>\n",
       "      <td>-17.990903</td>\n",
       "      <td>12.873394</td>\n",
       "      <td>14.910935</td>\n",
       "      <td>2.915341</td>\n",
       "      <td>-10.110081</td>\n",
       "      <td>1.628317</td>\n",
       "      <td>-0.365064</td>\n",
       "      <td>...</td>\n",
       "      <td>-138.889799</td>\n",
       "      <td>-0.246395</td>\n",
       "      <td>-1.912581</td>\n",
       "      <td>asia</td>\n",
       "      <td>-0.633811</td>\n",
       "      <td>1.181750</td>\n",
       "      <td>-0.836542</td>\n",
       "      <td>-2.144871</td>\n",
       "      <td>0.010353</td>\n",
       "      <td>-4.819828</td>\n",
       "    </tr>\n",
       "    <tr>\n",
       "      <th>1</th>\n",
       "      <td>-12.357004</td>\n",
       "      <td>13.874141</td>\n",
       "      <td>14.052924</td>\n",
       "      <td>34.129247</td>\n",
       "      <td>34.511107</td>\n",
       "      <td>34.583336</td>\n",
       "      <td>-0.482540</td>\n",
       "      <td>-6.583407</td>\n",
       "      <td>-4.326799</td>\n",
       "      <td>-1.216928</td>\n",
       "      <td>...</td>\n",
       "      <td>117.305737</td>\n",
       "      <td>0.316266</td>\n",
       "      <td>6.838756</td>\n",
       "      <td>asia</td>\n",
       "      <td>-4.357530</td>\n",
       "      <td>0.390822</td>\n",
       "      <td>14.052604</td>\n",
       "      <td>-2.744911</td>\n",
       "      <td>-0.005648</td>\n",
       "      <td>-1.253519</td>\n",
       "    </tr>\n",
       "    <tr>\n",
       "      <th>2</th>\n",
       "      <td>1.834922</td>\n",
       "      <td>2.665252</td>\n",
       "      <td>-44.873210</td>\n",
       "      <td>21.941920</td>\n",
       "      <td>10.102981</td>\n",
       "      <td>5.962249</td>\n",
       "      <td>-5.733909</td>\n",
       "      <td>-4.061670</td>\n",
       "      <td>-0.172269</td>\n",
       "      <td>0.096051</td>\n",
       "      <td>...</td>\n",
       "      <td>-66.548569</td>\n",
       "      <td>-0.657101</td>\n",
       "      <td>3.128596</td>\n",
       "      <td>asia</td>\n",
       "      <td>1.880922</td>\n",
       "      <td>0.810115</td>\n",
       "      <td>15.737267</td>\n",
       "      <td>-9.031679</td>\n",
       "      <td>0.089295</td>\n",
       "      <td>-4.285350</td>\n",
       "    </tr>\n",
       "    <tr>\n",
       "      <th>3</th>\n",
       "      <td>20.972483</td>\n",
       "      <td>11.548506</td>\n",
       "      <td>-40.924625</td>\n",
       "      <td>-35.296796</td>\n",
       "      <td>-35.253101</td>\n",
       "      <td>-14.601890</td>\n",
       "      <td>5.045075</td>\n",
       "      <td>10.841771</td>\n",
       "      <td>-1.872260</td>\n",
       "      <td>-0.002583</td>\n",
       "      <td>...</td>\n",
       "      <td>-150.133466</td>\n",
       "      <td>-0.391609</td>\n",
       "      <td>-4.306940</td>\n",
       "      <td>asia</td>\n",
       "      <td>-2.326108</td>\n",
       "      <td>-1.968523</td>\n",
       "      <td>-4.292831</td>\n",
       "      <td>-1.674606</td>\n",
       "      <td>-0.088565</td>\n",
       "      <td>-0.981937</td>\n",
       "    </tr>\n",
       "    <tr>\n",
       "      <th>4</th>\n",
       "      <td>-9.916044</td>\n",
       "      <td>5.509811</td>\n",
       "      <td>31.749288</td>\n",
       "      <td>-0.803916</td>\n",
       "      <td>-4.005098</td>\n",
       "      <td>20.912490</td>\n",
       "      <td>0.419346</td>\n",
       "      <td>-2.949516</td>\n",
       "      <td>1.057176</td>\n",
       "      <td>-0.338547</td>\n",
       "      <td>...</td>\n",
       "      <td>-23.313528</td>\n",
       "      <td>-3.207335</td>\n",
       "      <td>2.294935</td>\n",
       "      <td>asia</td>\n",
       "      <td>3.654200</td>\n",
       "      <td>12.774511</td>\n",
       "      <td>-10.603162</td>\n",
       "      <td>0.971344</td>\n",
       "      <td>0.062776</td>\n",
       "      <td>1.557684</td>\n",
       "    </tr>\n",
       "  </tbody>\n",
       "</table>\n",
       "<p>5 rows × 100 columns</p>\n",
       "</div>"
      ],
      "text/plain": [
       "          x0         x1         x2         x3         x4         x5        x6  \\\n",
       "0   0.519093  -4.606038  13.707586 -17.990903  12.873394  14.910935  2.915341   \n",
       "1 -12.357004  13.874141  14.052924  34.129247  34.511107  34.583336 -0.482540   \n",
       "2   1.834922   2.665252 -44.873210  21.941920  10.102981   5.962249 -5.733909   \n",
       "3  20.972483  11.548506 -40.924625 -35.296796 -35.253101 -14.601890  5.045075   \n",
       "4  -9.916044   5.509811  31.749288  -0.803916  -4.005098  20.912490  0.419346   \n",
       "\n",
       "          x7        x8        x9    ...            x90       x91       x92  \\\n",
       "0 -10.110081  1.628317 -0.365064    ...    -138.889799 -0.246395 -1.912581   \n",
       "1  -6.583407 -4.326799 -1.216928    ...     117.305737  0.316266  6.838756   \n",
       "2  -4.061670 -0.172269  0.096051    ...     -66.548569 -0.657101  3.128596   \n",
       "3  10.841771 -1.872260 -0.002583    ...    -150.133466 -0.391609 -4.306940   \n",
       "4  -2.949516  1.057176 -0.338547    ...     -23.313528 -3.207335  2.294935   \n",
       "\n",
       "    x93       x94        x95        x96       x97       x98       x99  \n",
       "0  asia -0.633811   1.181750  -0.836542 -2.144871  0.010353 -4.819828  \n",
       "1  asia -4.357530   0.390822  14.052604 -2.744911 -0.005648 -1.253519  \n",
       "2  asia  1.880922   0.810115  15.737267 -9.031679  0.089295 -4.285350  \n",
       "3  asia -2.326108  -1.968523  -4.292831 -1.674606 -0.088565 -0.981937  \n",
       "4  asia  3.654200  12.774511 -10.603162  0.971344  0.062776  1.557684  \n",
       "\n",
       "[5 rows x 100 columns]"
      ]
     },
     "execution_count": 7,
     "metadata": {},
     "output_type": "execute_result"
    }
   ],
   "source": [
    "#Take a glimpse of the test data\n",
    "test_data.head()"
   ]
  },
  {
   "cell_type": "code",
   "execution_count": 11,
   "metadata": {
    "ExecuteTime": {
     "end_time": "2019-04-11T04:28:56.563692Z",
     "start_time": "2019-04-11T04:28:56.559996Z"
    }
   },
   "outputs": [
    {
     "data": {
      "text/plain": [
       "(10000, 100)"
      ]
     },
     "execution_count": 11,
     "metadata": {},
     "output_type": "execute_result"
    }
   ],
   "source": [
    "test_data.shape"
   ]
  },
  {
   "cell_type": "markdown",
   "metadata": {
    "colab_type": "text",
    "id": "FjFYV0HLH0S5"
   },
   "source": [
    "## Data Cleaning"
   ]
  },
  {
   "cell_type": "markdown",
   "metadata": {
    "colab_type": "text",
    "id": "yR0feet3H-be"
   },
   "source": [
    "## Clean Train Data"
   ]
  },
  {
   "cell_type": "code",
   "execution_count": 12,
   "metadata": {
    "ExecuteTime": {
     "end_time": "2019-04-11T04:29:18.402757Z",
     "start_time": "2019-04-11T04:29:18.400377Z"
    }
   },
   "outputs": [],
   "source": [
    "# Determine how many columns columns contain categorical data"
   ]
  },
  {
   "cell_type": "code",
   "execution_count": 13,
   "metadata": {
    "ExecuteTime": {
     "end_time": "2019-04-11T04:30:15.258827Z",
     "start_time": "2019-04-11T04:30:15.253348Z"
    },
    "colab": {
     "base_uri": "https://localhost:8080/",
     "height": 136
    },
    "colab_type": "code",
    "id": "IVgNnAaJIE1b",
    "outputId": "98c20749-fc13-4727-ae02-4e34ca8310b4"
   },
   "outputs": [
    {
     "data": {
      "text/plain": [
       "x34    object\n",
       "x35    object\n",
       "x41    object\n",
       "x45    object\n",
       "x68    object\n",
       "x93    object\n",
       "dtype: object"
      ]
     },
     "execution_count": 13,
     "metadata": {},
     "output_type": "execute_result"
    }
   ],
   "source": [
    "train_data.dtypes[train_data.dtypes == 'object']"
   ]
  },
  {
   "cell_type": "code",
   "execution_count": 14,
   "metadata": {
    "ExecuteTime": {
     "end_time": "2019-04-11T04:30:31.109094Z",
     "start_time": "2019-04-11T04:30:31.096449Z"
    }
   },
   "outputs": [
    {
     "data": {
      "text/html": [
       "<div>\n",
       "<style scoped>\n",
       "    .dataframe tbody tr th:only-of-type {\n",
       "        vertical-align: middle;\n",
       "    }\n",
       "\n",
       "    .dataframe tbody tr th {\n",
       "        vertical-align: top;\n",
       "    }\n",
       "\n",
       "    .dataframe thead th {\n",
       "        text-align: right;\n",
       "    }\n",
       "</style>\n",
       "<table border=\"1\" class=\"dataframe\">\n",
       "  <thead>\n",
       "    <tr style=\"text-align: right;\">\n",
       "      <th></th>\n",
       "      <th>x34</th>\n",
       "      <th>x35</th>\n",
       "      <th>x41</th>\n",
       "      <th>x45</th>\n",
       "      <th>x68</th>\n",
       "      <th>x93</th>\n",
       "    </tr>\n",
       "  </thead>\n",
       "  <tbody>\n",
       "    <tr>\n",
       "      <th>0</th>\n",
       "      <td>chrystler</td>\n",
       "      <td>thur</td>\n",
       "      <td>$-865.28</td>\n",
       "      <td>0.02%</td>\n",
       "      <td>sept.</td>\n",
       "      <td>asia</td>\n",
       "    </tr>\n",
       "    <tr>\n",
       "      <th>1</th>\n",
       "      <td>volkswagon</td>\n",
       "      <td>thur</td>\n",
       "      <td>$325.27</td>\n",
       "      <td>-0.01%</td>\n",
       "      <td>July</td>\n",
       "      <td>asia</td>\n",
       "    </tr>\n",
       "    <tr>\n",
       "      <th>2</th>\n",
       "      <td>bmw</td>\n",
       "      <td>thurday</td>\n",
       "      <td>$743.91</td>\n",
       "      <td>0.0%</td>\n",
       "      <td>July</td>\n",
       "      <td>asia</td>\n",
       "    </tr>\n",
       "    <tr>\n",
       "      <th>3</th>\n",
       "      <td>nissan</td>\n",
       "      <td>thurday</td>\n",
       "      <td>$538.48</td>\n",
       "      <td>0.01%</td>\n",
       "      <td>July</td>\n",
       "      <td>asia</td>\n",
       "    </tr>\n",
       "    <tr>\n",
       "      <th>4</th>\n",
       "      <td>volkswagon</td>\n",
       "      <td>wed</td>\n",
       "      <td>$-433.65</td>\n",
       "      <td>0.0%</td>\n",
       "      <td>Jun</td>\n",
       "      <td>asia</td>\n",
       "    </tr>\n",
       "  </tbody>\n",
       "</table>\n",
       "</div>"
      ],
      "text/plain": [
       "          x34      x35       x41     x45    x68   x93\n",
       "0   chrystler     thur  $-865.28   0.02%  sept.  asia\n",
       "1  volkswagon     thur   $325.27  -0.01%   July  asia\n",
       "2         bmw  thurday   $743.91    0.0%   July  asia\n",
       "3      nissan  thurday   $538.48   0.01%   July  asia\n",
       "4  volkswagon      wed  $-433.65    0.0%    Jun  asia"
      ]
     },
     "execution_count": 14,
     "metadata": {},
     "output_type": "execute_result"
    }
   ],
   "source": [
    "# Take a peak at the categorical columns\n",
    "train_data[[\"x34\",\"x35\",\"x41\",\"x45\",\"x68\",\"x93\"]].head()"
   ]
  },
  {
   "cell_type": "code",
   "execution_count": 15,
   "metadata": {
    "ExecuteTime": {
     "end_time": "2019-04-11T04:30:43.771549Z",
     "start_time": "2019-04-11T04:30:43.769739Z"
    },
    "colab": {
     "base_uri": "https://localhost:8080/",
     "height": 204
    },
    "colab_type": "code",
    "id": "LmkKSkxkIGy0",
    "outputId": "21103e0f-8ba9-42eb-ffed-6ff77328f6fb"
   },
   "outputs": [],
   "source": [
    "# Since the x41 and the x45 columns contain '$%' charactors with are unnecessry\n",
    "# They will be removed and the columns converted to float"
   ]
  },
  {
   "cell_type": "code",
   "execution_count": 16,
   "metadata": {
    "ExecuteTime": {
     "end_time": "2019-04-11T04:31:01.474450Z",
     "start_time": "2019-04-11T04:31:01.416458Z"
    },
    "colab": {},
    "colab_type": "code",
    "id": "kV25Lof_IOKF"
   },
   "outputs": [],
   "source": [
    "train_data[\"x41\"]=[float(str(x).replace(\"$\",\"\")) for x in list(train_data[\"x41\"])]\n",
    "train_data[\"x45\"]=[float(str(x).replace(\"%\",\"\")) for x in list(train_data[\"x45\"])]"
   ]
  },
  {
   "cell_type": "code",
   "execution_count": 17,
   "metadata": {
    "ExecuteTime": {
     "end_time": "2019-04-11T04:31:09.470353Z",
     "start_time": "2019-04-11T04:31:09.421068Z"
    },
    "colab": {
     "base_uri": "https://localhost:8080/",
     "height": 136
    },
    "colab_type": "code",
    "id": "JPZn8N_KIR8O",
    "outputId": "3c8aee45-648c-4af4-9bf8-fc00f7d4eb97"
   },
   "outputs": [
    {
     "data": {
      "text/plain": [
       "x34     object\n",
       "x35     object\n",
       "x41    float64\n",
       "x45    float64\n",
       "x68     object\n",
       "x93     object\n",
       "dtype: object"
      ]
     },
     "execution_count": 17,
     "metadata": {},
     "output_type": "execute_result"
    }
   ],
   "source": [
    "train_data[[\"x34\",\"x35\",\"x41\",\"x45\",\"x68\",\"x93\"]].dtypes"
   ]
  },
  {
   "cell_type": "code",
   "execution_count": 18,
   "metadata": {
    "ExecuteTime": {
     "end_time": "2019-04-11T04:31:23.432226Z",
     "start_time": "2019-04-11T04:31:23.361122Z"
    },
    "colab": {},
    "colab_type": "code",
    "id": "qewnXXDjIUxJ",
    "scrolled": true
   },
   "outputs": [
    {
     "data": {
      "text/plain": [
       "x0     12\n",
       "x1     10\n",
       "x2      7\n",
       "x3     13\n",
       "x4      7\n",
       "x5      8\n",
       "x6      9\n",
       "x7     10\n",
       "x8      6\n",
       "x9      7\n",
       "x10     7\n",
       "x11     9\n",
       "x12    11\n",
       "x13    15\n",
       "x14     5\n",
       "x15     8\n",
       "x16     8\n",
       "x17    11\n",
       "x18    14\n",
       "x19     8\n",
       "x20     4\n",
       "x21    12\n",
       "x22     6\n",
       "x23     9\n",
       "x24    11\n",
       "x25     7\n",
       "x26    10\n",
       "x27     7\n",
       "x28     9\n",
       "x29     3\n",
       "       ..\n",
       "x71     6\n",
       "x72     9\n",
       "x73    13\n",
       "x74     9\n",
       "x75    10\n",
       "x76     8\n",
       "x77    11\n",
       "x78     8\n",
       "x79     7\n",
       "x80     7\n",
       "x81     3\n",
       "x82     8\n",
       "x83     4\n",
       "x84     3\n",
       "x85    12\n",
       "x86     7\n",
       "x87     9\n",
       "x88     5\n",
       "x89    10\n",
       "x90     7\n",
       "x91     2\n",
       "x92     6\n",
       "x93     7\n",
       "x94     9\n",
       "x95     7\n",
       "x96    14\n",
       "x97     9\n",
       "x98     4\n",
       "x99    13\n",
       "y       0\n",
       "Length: 101, dtype: int64"
      ]
     },
     "execution_count": 18,
     "metadata": {},
     "output_type": "execute_result"
    }
   ],
   "source": [
    "train_data.isna().sum()"
   ]
  },
  {
   "cell_type": "code",
   "execution_count": 19,
   "metadata": {
    "ExecuteTime": {
     "end_time": "2019-04-11T04:31:39.525671Z",
     "start_time": "2019-04-11T04:31:39.523377Z"
    }
   },
   "outputs": [],
   "source": [
    "# The train data contains numerous nan values. This values will be handles in\n",
    "# a pipeline later"
   ]
  },
  {
   "cell_type": "code",
   "execution_count": 296,
   "metadata": {
    "colab": {
     "base_uri": "https://localhost:8080/",
     "height": 204
    },
    "colab_type": "code",
    "id": "GknOlp5pIiv4",
    "outputId": "955b9164-b17a-47f5-dc5f-5ebc858134bf"
   },
   "outputs": [
    {
     "data": {
      "text/plain": [
       "volkswagon    12622\n",
       "Toyota        10968\n",
       "bmw            7262\n",
       "Honda          5174\n",
       "tesla          2247\n",
       "chrystler      1191\n",
       "nissan          326\n",
       "ford            160\n",
       "mercades         31\n",
       "chevrolet        11\n",
       "Name: x34, dtype: int64"
      ]
     },
     "execution_count": 296,
     "metadata": {
      "tags": []
     },
     "output_type": "execute_result"
    }
   ],
   "source": [
    "train_data[\"x34\"].value_counts()"
   ]
  },
  {
   "cell_type": "code",
   "execution_count": 20,
   "metadata": {
    "ExecuteTime": {
     "end_time": "2019-04-11T04:32:05.175616Z",
     "start_time": "2019-04-11T04:32:05.173514Z"
    }
   },
   "outputs": [],
   "source": [
    "# All values of the x34 column are unique"
   ]
  },
  {
   "cell_type": "code",
   "execution_count": 297,
   "metadata": {
    "colab": {
     "base_uri": "https://localhost:8080/",
     "height": 170
    },
    "colab_type": "code",
    "id": "G8hT3vHmIm6-",
    "outputId": "c5859c39-99df-4c7d-d293-71767f397ad2"
   },
   "outputs": [
    {
     "data": {
      "text/plain": [
       "wed          14820\n",
       "thurday      13324\n",
       "wednesday     5938\n",
       "thur          4428\n",
       "tuesday        884\n",
       "friday         517\n",
       "monday          53\n",
       "fri             26\n",
       "Name: x35, dtype: int64"
      ]
     },
     "execution_count": 297,
     "metadata": {
      "tags": []
     },
     "output_type": "execute_result"
    }
   ],
   "source": [
    "train_data[\"x35\"].value_counts()"
   ]
  },
  {
   "cell_type": "code",
   "execution_count": 21,
   "metadata": {
    "ExecuteTime": {
     "end_time": "2019-04-11T04:32:18.399652Z",
     "start_time": "2019-04-11T04:32:18.397459Z"
    }
   },
   "outputs": [],
   "source": [
    "# x35 contains repeated data that is entered differently,\n",
    "# thurday and thur should be the same entry. Same to wednesday and friday"
   ]
  },
  {
   "cell_type": "code",
   "execution_count": 298,
   "metadata": {
    "colab": {
     "base_uri": "https://localhost:8080/",
     "height": 238
    },
    "colab_type": "code",
    "id": "ZkRbN3CMIrDo",
    "outputId": "78b8fbf9-f4df-4770-e978-39ca175e5f9c"
   },
   "outputs": [
    {
     "data": {
      "text/plain": [
       "July       11114\n",
       "Jun         9317\n",
       "Aug         8170\n",
       "May         4744\n",
       "sept.       3504\n",
       "Apr         1629\n",
       "Oct          885\n",
       "Mar          407\n",
       "Nov          145\n",
       "Feb           48\n",
       "Dev           16\n",
       "January       12\n",
       "Name: x68, dtype: int64"
      ]
     },
     "execution_count": 298,
     "metadata": {
      "tags": []
     },
     "output_type": "execute_result"
    }
   ],
   "source": [
    "train_data[\"x68\"].value_counts()"
   ]
  },
  {
   "cell_type": "code",
   "execution_count": 23,
   "metadata": {
    "ExecuteTime": {
     "end_time": "2019-04-11T04:33:04.866206Z",
     "start_time": "2019-04-11T04:33:04.863743Z"
    }
   },
   "outputs": [],
   "source": [
    "# The x68 column contains only unique data and so is x93"
   ]
  },
  {
   "cell_type": "code",
   "execution_count": 299,
   "metadata": {
    "colab": {
     "base_uri": "https://localhost:8080/",
     "height": 85
    },
    "colab_type": "code",
    "id": "kmtOh-ODIuhE",
    "outputId": "12b88032-fbe1-4f6b-f2ac-e1bb658678ea"
   },
   "outputs": [
    {
     "data": {
      "text/plain": [
       "asia       35384\n",
       "america     3167\n",
       "euorpe      1442\n",
       "Name: x93, dtype: int64"
      ]
     },
     "execution_count": 299,
     "metadata": {
      "tags": []
     },
     "output_type": "execute_result"
    }
   ],
   "source": [
    "train_data[\"x93\"].value_counts()"
   ]
  },
  {
   "cell_type": "code",
   "execution_count": 24,
   "metadata": {
    "ExecuteTime": {
     "end_time": "2019-04-11T04:34:33.127541Z",
     "start_time": "2019-04-11T04:34:33.125353Z"
    }
   },
   "outputs": [],
   "source": [
    "# The cell below will be used to clean redudant columns in the dataset"
   ]
  },
  {
   "cell_type": "code",
   "execution_count": 0,
   "metadata": {
    "colab": {},
    "colab_type": "code",
    "id": "8Hq6McyTI4Zv"
   },
   "outputs": [],
   "source": [
    "for x,y in enumerate(train_data['x35']):\n",
    "    if y == 'thur':\n",
    "        train_data['x35'][x]='thursday'\n",
    "        print(\"replaced\", y ,\" at row \",x)\n",
    "    elif y == 'thurday':\n",
    "        train_data['x35'][x]='thursday'\n",
    "        print(\"replaced\", y ,\" at row \",x)\n",
    "    elif y == 'wed':\n",
    "        train_data['x35'][x]='wednesday'\n",
    "        print(\"replaced\", y ,\" at row \",x)\n",
    "    elif y == 'fri':\n",
    "        train_data['x35'][x] ='friday'\n",
    "        print(\"replaced\", y ,\" at row \",x)\n",
    "    else:\n",
    "        pass"
   ]
  },
  {
   "cell_type": "code",
   "execution_count": 26,
   "metadata": {
    "ExecuteTime": {
     "end_time": "2019-04-11T04:34:49.604747Z",
     "start_time": "2019-04-11T04:34:49.594863Z"
    },
    "colab": {
     "base_uri": "https://localhost:8080/",
     "height": 170
    },
    "colab_type": "code",
    "id": "tIlB7KYTJBig",
    "outputId": "75302838-a8f4-4926-eb69-56c17a634818"
   },
   "outputs": [
    {
     "data": {
      "text/plain": [
       "wednesday    20758\n",
       "thursday     17752\n",
       "tuesday        884\n",
       "friday         543\n",
       "monday          53\n",
       "Name: x35, dtype: int64"
      ]
     },
     "execution_count": 26,
     "metadata": {},
     "output_type": "execute_result"
    }
   ],
   "source": [
    "train_data[\"x35\"].value_counts()"
   ]
  },
  {
   "cell_type": "code",
   "execution_count": 27,
   "metadata": {
    "ExecuteTime": {
     "end_time": "2019-04-11T04:35:37.079256Z",
     "start_time": "2019-04-11T04:35:37.077301Z"
    }
   },
   "outputs": [],
   "source": [
    "# All redudant values have been replaced"
   ]
  },
  {
   "cell_type": "markdown",
   "metadata": {
    "colab_type": "text",
    "id": "-RgTJD7nJIA4"
   },
   "source": [
    "### Clean Test Data"
   ]
  },
  {
   "cell_type": "code",
   "execution_count": 28,
   "metadata": {
    "ExecuteTime": {
     "end_time": "2019-04-11T04:36:14.430551Z",
     "start_time": "2019-04-11T04:36:14.428459Z"
    }
   },
   "outputs": [],
   "source": [
    "# The same procedure will be repeated on the test dataset"
   ]
  },
  {
   "cell_type": "code",
   "execution_count": 301,
   "metadata": {
    "colab": {
     "base_uri": "https://localhost:8080/",
     "height": 102
    },
    "colab_type": "code",
    "id": "KikgHmZaJMOV",
    "outputId": "2e2c84bd-535d-4911-aa71-565dcccf0583"
   },
   "outputs": [
    {
     "data": {
      "text/plain": [
       "x34    object\n",
       "x35    object\n",
       "x68    object\n",
       "x93    object\n",
       "dtype: object"
      ]
     },
     "execution_count": 301,
     "metadata": {
      "tags": []
     },
     "output_type": "execute_result"
    }
   ],
   "source": [
    "test_data.dtypes[test_data.dtypes == 'object']"
   ]
  },
  {
   "cell_type": "code",
   "execution_count": 302,
   "metadata": {
    "colab": {
     "base_uri": "https://localhost:8080/",
     "height": 34
    },
    "colab_type": "code",
    "id": "6ENAWerMJWG4",
    "outputId": "dc598235-2578-4676-ec93-7aa3a64f5468"
   },
   "outputs": [
    {
     "data": {
      "text/plain": [
       "(10000, 101)"
      ]
     },
     "execution_count": 302,
     "metadata": {
      "tags": []
     },
     "output_type": "execute_result"
    }
   ],
   "source": [
    "test_data.shape"
   ]
  },
  {
   "cell_type": "code",
   "execution_count": 0,
   "metadata": {
    "colab": {},
    "colab_type": "code",
    "id": "NouFadA6VaBF"
   },
   "outputs": [],
   "source": [
    "Y=train_data.iloc[-1].values"
   ]
  },
  {
   "cell_type": "code",
   "execution_count": 303,
   "metadata": {
    "colab": {
     "base_uri": "https://localhost:8080/",
     "height": 204
    },
    "colab_type": "code",
    "id": "YpE8hb34INW4",
    "outputId": "dfe9b599-e5d7-40ca-c58d-5f5d6ec51bfb"
   },
   "outputs": [
    {
     "data": {
      "text/html": [
       "<div>\n",
       "<style scoped>\n",
       "    .dataframe tbody tr th:only-of-type {\n",
       "        vertical-align: middle;\n",
       "    }\n",
       "\n",
       "    .dataframe tbody tr th {\n",
       "        vertical-align: top;\n",
       "    }\n",
       "\n",
       "    .dataframe thead th {\n",
       "        text-align: right;\n",
       "    }\n",
       "</style>\n",
       "<table border=\"1\" class=\"dataframe\">\n",
       "  <thead>\n",
       "    <tr style=\"text-align: right;\">\n",
       "      <th></th>\n",
       "      <th>x34</th>\n",
       "      <th>x35</th>\n",
       "      <th>x41</th>\n",
       "      <th>x45</th>\n",
       "      <th>x68</th>\n",
       "      <th>x93</th>\n",
       "    </tr>\n",
       "  </thead>\n",
       "  <tbody>\n",
       "    <tr>\n",
       "      <th>0</th>\n",
       "      <td>bmw</td>\n",
       "      <td>thursday</td>\n",
       "      <td>107.93</td>\n",
       "      <td>0.00</td>\n",
       "      <td>Jun</td>\n",
       "      <td>asia</td>\n",
       "    </tr>\n",
       "    <tr>\n",
       "      <th>1</th>\n",
       "      <td>tesla</td>\n",
       "      <td>thursday</td>\n",
       "      <td>-600.43</td>\n",
       "      <td>0.02</td>\n",
       "      <td>May</td>\n",
       "      <td>asia</td>\n",
       "    </tr>\n",
       "    <tr>\n",
       "      <th>2</th>\n",
       "      <td>Honda</td>\n",
       "      <td>thursday</td>\n",
       "      <td>103.08</td>\n",
       "      <td>-0.00</td>\n",
       "      <td>Jun</td>\n",
       "      <td>asia</td>\n",
       "    </tr>\n",
       "    <tr>\n",
       "      <th>3</th>\n",
       "      <td>volkswagon</td>\n",
       "      <td>thursday</td>\n",
       "      <td>1518.78</td>\n",
       "      <td>-0.01</td>\n",
       "      <td>sept.</td>\n",
       "      <td>asia</td>\n",
       "    </tr>\n",
       "    <tr>\n",
       "      <th>4</th>\n",
       "      <td>volkswagon</td>\n",
       "      <td>thursday</td>\n",
       "      <td>-2324.39</td>\n",
       "      <td>-0.00</td>\n",
       "      <td>Jun</td>\n",
       "      <td>asia</td>\n",
       "    </tr>\n",
       "  </tbody>\n",
       "</table>\n",
       "</div>"
      ],
      "text/plain": [
       "          x34       x35      x41   x45    x68   x93\n",
       "0         bmw  thursday   107.93  0.00    Jun  asia\n",
       "1       tesla  thursday  -600.43  0.02    May  asia\n",
       "2       Honda  thursday   103.08 -0.00    Jun  asia\n",
       "3  volkswagon  thursday  1518.78 -0.01  sept.  asia\n",
       "4  volkswagon  thursday -2324.39 -0.00    Jun  asia"
      ]
     },
     "execution_count": 303,
     "metadata": {
      "tags": []
     },
     "output_type": "execute_result"
    }
   ],
   "source": [
    "test_data[[\"x34\",\"x35\",\"x41\",\"x45\",\"x68\",\"x93\"]].head()"
   ]
  },
  {
   "cell_type": "code",
   "execution_count": 0,
   "metadata": {
    "colab": {},
    "colab_type": "code",
    "id": "Q-YEEkb-JeB7"
   },
   "outputs": [],
   "source": [
    "test_data[\"x41\"]=[float(str(x).replace(\"$\",\"\")) for x in list(test_data[\"x41\"])]\n",
    "test_data[\"x45\"]=[float(str(x).replace(\"%\",\"\")) for x in list(test_data[\"x45\"])]"
   ]
  },
  {
   "cell_type": "code",
   "execution_count": 0,
   "metadata": {
    "colab": {},
    "colab_type": "code",
    "id": "fq2ceTdAJjuP"
   },
   "outputs": [],
   "source": [
    "test_data.isna().sum()"
   ]
  },
  {
   "cell_type": "code",
   "execution_count": 306,
   "metadata": {
    "colab": {
     "base_uri": "https://localhost:8080/",
     "height": 119
    },
    "colab_type": "code",
    "id": "va0pIBOIJsYS",
    "outputId": "ce8f6c37-5bfd-4a14-84a2-6429ce41b757"
   },
   "outputs": [
    {
     "data": {
      "text/plain": [
       "wednesday    5196\n",
       "thursday     4408\n",
       "tuesday       228\n",
       "friday        144\n",
       "monday         21\n",
       "Name: x35, dtype: int64"
      ]
     },
     "execution_count": 306,
     "metadata": {
      "tags": []
     },
     "output_type": "execute_result"
    }
   ],
   "source": [
    "test_data[\"x35\"].value_counts()"
   ]
  },
  {
   "cell_type": "code",
   "execution_count": 0,
   "metadata": {
    "colab": {},
    "colab_type": "code",
    "id": "yQJ_kXZrJzg8"
   },
   "outputs": [],
   "source": [
    "for x,y in enumerate(test_data['x35']):\n",
    "    if y == 'thur':\n",
    "        test_data['x35'][x]='thursday'\n",
    "        print(\"replaced\", y ,\" at row \",x)\n",
    "    elif y == 'thurday':\n",
    "        test_data['x35'][x]='thursday'\n",
    "        print(\"replaced\", y ,\" at row \",x)\n",
    "    elif y == 'wed':\n",
    "        test_data['x35'][x]='wednesday'\n",
    "        print(\"replaced\", y ,\" at row \",x)\n",
    "    elif y == 'fri':\n",
    "        test_data['x35'][x] ='friday'\n",
    "        print(\"replaced\", y ,\" at row \",x)\n",
    "    else:\n",
    "        pass"
   ]
  },
  {
   "cell_type": "code",
   "execution_count": 0,
   "metadata": {
    "colab": {},
    "colab_type": "code",
    "id": "xlirBqJ9KAEn"
   },
   "outputs": [],
   "source": [
    "test_data[\"x35\"].value_counts()"
   ]
  },
  {
   "cell_type": "code",
   "execution_count": null,
   "metadata": {},
   "outputs": [],
   "source": [
    "# The cell below will be used to store the cleaned dataset in a csv file. The clean up \n",
    "# process can take a while if repeated"
   ]
  },
  {
   "cell_type": "code",
   "execution_count": 0,
   "metadata": {
    "colab": {},
    "colab_type": "code",
    "id": "crefoKiUJ3ee"
   },
   "outputs": [],
   "source": [
    "train_data = pd.to_csv(\"clean_train_data.csv\")\n",
    "test_data = pd.to_csv(\"clean_test_data.csv\")"
   ]
  },
  {
   "cell_type": "code",
   "execution_count": 0,
   "metadata": {
    "colab": {},
    "colab_type": "code",
    "id": "3IxepR6MGgVc"
   },
   "outputs": [],
   "source": [
    "#train_data = pd.read_csv(\"clean_train_data.csv\")\n",
    "#test_data = pd.read_csv(\"clean_test_data.csv\")"
   ]
  },
  {
   "cell_type": "code",
   "execution_count": 29,
   "metadata": {
    "ExecuteTime": {
     "end_time": "2019-04-11T04:38:20.108379Z",
     "start_time": "2019-04-11T04:38:20.106017Z"
    }
   },
   "outputs": [],
   "source": [
    "# The code before will be used to select dataframe and perform encoding of categorical data"
   ]
  },
  {
   "cell_type": "code",
   "execution_count": 0,
   "metadata": {
    "colab": {},
    "colab_type": "code",
    "id": "sHPsQp9HbmH5"
   },
   "outputs": [],
   "source": [
    "class DataFrameSelector(BaseEstimator, TransformerMixin): # Select attributes of a dataframe\n",
    "    def __init__(self, attribute_names):\n",
    "        self.attribute_names = attribute_names\n",
    "    def fit(self, X, y=None):\n",
    "        return self\n",
    "    def transform(self, X):\n",
    "        return X[self.attribute_names].values\n",
    "    \n",
    "class CategoricalEncoder(BaseEstimator, TransformerMixin): #Encode categorical features of the dataframe \n",
    "    def __init__(self, encoding='onehot', categories='auto', dtype=np.float64,\n",
    "                 handle_unknown='error'):\n",
    "        self.encoding = encoding\n",
    "        self.categories = categories\n",
    "        self.dtype = dtype\n",
    "        self.handle_unknown = handle_unknown\n",
    "\n",
    "    def fit(self, X, y=None):\n",
    "\n",
    "        if self.encoding not in ['onehot', 'onehot-dense', 'ordinal']:\n",
    "            template = (\"encoding should be either 'onehot', 'onehot-dense' \"\n",
    "                        \"or 'ordinal', got %s\")\n",
    "            raise ValueError(template % self.handle_unknown)\n",
    "\n",
    "        if self.handle_unknown not in ['error', 'ignore']:\n",
    "            template = (\"handle_unknown should be either 'error' or \"\n",
    "                        \"'ignore', got %s\")\n",
    "            raise ValueError(template % self.handle_unknown)\n",
    "\n",
    "        if self.encoding == 'ordinal' and self.handle_unknown == 'ignore':\n",
    "            raise ValueError(\"handle_unknown='ignore' is not supported for\"\n",
    "                             \" encoding='ordinal'\")\n",
    "\n",
    "        X = check_array(X, dtype=np.object, accept_sparse='csc', copy=True)\n",
    "        n_samples, n_features = X.shape\n",
    "\n",
    "        self._label_encoders_ = [LabelEncoder() for _ in range(n_features)]\n",
    "\n",
    "        for i in range(n_features):\n",
    "            le = self._label_encoders_[i]\n",
    "            Xi = X[:, i]\n",
    "            if self.categories == 'auto':\n",
    "                le.fit(Xi)\n",
    "            else:\n",
    "                valid_mask = np.in1d(Xi, self.categories[i])\n",
    "                if not np.all(valid_mask):\n",
    "                    if self.handle_unknown == 'error':\n",
    "                        diff = np.unique(Xi[~valid_mask])\n",
    "                        msg = (\"Found unknown categories {0} in column {1}\"\n",
    "                               \" during fit\".format(diff, i))\n",
    "                        raise ValueError(msg)\n",
    "                le.classes_ = np.array(np.sort(self.categories[i]))\n",
    "\n",
    "        self.categories_ = [le.classes_ for le in self._label_encoders_]\n",
    "\n",
    "        return self\n",
    "\n",
    "    def transform(self, X):\n",
    "        X = check_array(X, accept_sparse='csc', dtype=np.object, copy=True)\n",
    "        n_samples, n_features = X.shape\n",
    "        X_int = np.zeros_like(X, dtype=np.int)\n",
    "        X_mask = np.ones_like(X, dtype=np.bool)\n",
    "\n",
    "        for i in range(n_features):\n",
    "            valid_mask = np.in1d(X[:, i], self.categories_[i])\n",
    "\n",
    "            if not np.all(valid_mask):\n",
    "                if self.handle_unknown == 'error':\n",
    "                    diff = np.unique(X[~valid_mask, i])\n",
    "                    msg = (\"Found unknown categories {0} in column {1}\"\n",
    "                           \" during transform\".format(diff, i))\n",
    "                    raise ValueError(msg)\n",
    "                else:\n",
    "                    # Set the problematic rows to an acceptable value and\n",
    "                    # continue `The rows are marked `X_mask` and will be\n",
    "                    # removed later.\n",
    "                    X_mask[:, i] = valid_mask\n",
    "                    X[:, i][~valid_mask] = self.categories_[i][0]\n",
    "            X_int[:, i] = self._label_encoders_[i].transform(X[:, i])\n",
    "\n",
    "        if self.encoding == 'ordinal':\n",
    "            return X_int.astype(self.dtype, copy=False)\n",
    "\n",
    "        mask = X_mask.ravel()\n",
    "        n_values = [cats.shape[0] for cats in self.categories_]\n",
    "        n_values = np.array([0] + n_values)\n",
    "        indices = np.cumsum(n_values)\n",
    "\n",
    "        column_indices = (X_int + indices[:-1]).ravel()[mask]\n",
    "        row_indices = np.repeat(np.arange(n_samples, dtype=np.int32),\n",
    "                                n_features)[mask]\n",
    "        data = np.ones(n_samples * n_features)[mask]\n",
    "\n",
    "        out = sparse.csc_matrix((data, (row_indices, column_indices)),\n",
    "                                shape=(n_samples, indices[-1]),\n",
    "                                dtype=self.dtype).tocsr()\n",
    "        if self.encoding == 'onehot-dense':\n",
    "            return out.toarray()\n",
    "        else:\n",
    "            return out"
   ]
  },
  {
   "cell_type": "code",
   "execution_count": 30,
   "metadata": {
    "ExecuteTime": {
     "end_time": "2019-04-11T04:38:46.425947Z",
     "start_time": "2019-04-11T04:38:46.423855Z"
    }
   },
   "outputs": [],
   "source": [
    "# Retrieve the the target and feature values"
   ]
  },
  {
   "cell_type": "code",
   "execution_count": 0,
   "metadata": {
    "colab": {},
    "colab_type": "code",
    "id": "bDNrq0-XckUL"
   },
   "outputs": [],
   "source": [
    "X = train_data.iloc[:,:-1]\n",
    "y = train_data.iloc[:,-1:]"
   ]
  },
  {
   "cell_type": "code",
   "execution_count": 31,
   "metadata": {
    "ExecuteTime": {
     "end_time": "2019-04-11T04:39:16.847336Z",
     "start_time": "2019-04-11T04:39:16.844896Z"
    }
   },
   "outputs": [],
   "source": [
    "# Split the the train data into train and test sets"
   ]
  },
  {
   "cell_type": "code",
   "execution_count": 0,
   "metadata": {
    "colab": {},
    "colab_type": "code",
    "id": "e8jW583Lcs7G"
   },
   "outputs": [],
   "source": [
    "X_train, X_test, y_train, y_test = train_test_split(X, y, test_size=0.35, random_state=28)"
   ]
  },
  {
   "cell_type": "code",
   "execution_count": 32,
   "metadata": {
    "ExecuteTime": {
     "end_time": "2019-04-11T04:40:16.099846Z",
     "start_time": "2019-04-11T04:40:16.097819Z"
    }
   },
   "outputs": [],
   "source": [
    "# The specifies the categorical versus numerical columns for data pre-processing"
   ]
  },
  {
   "cell_type": "code",
   "execution_count": 0,
   "metadata": {
    "colab": {},
    "colab_type": "code",
    "id": "Lv5qu4aKcucQ"
   },
   "outputs": [],
   "source": [
    "cat_attribs=[\"x34\",\"x35\",\"x68\",\"x93\"]\n",
    "num_attribs=[e for e in list(X.columns) if e not in cat_attribs]"
   ]
  },
  {
   "cell_type": "code",
   "execution_count": 33,
   "metadata": {
    "ExecuteTime": {
     "end_time": "2019-04-11T04:40:45.073514Z",
     "start_time": "2019-04-11T04:40:45.071065Z"
    }
   },
   "outputs": [],
   "source": [
    "# Create a pipeline for data pre-processing"
   ]
  },
  {
   "cell_type": "code",
   "execution_count": 146,
   "metadata": {
    "colab": {
     "base_uri": "https://localhost:8080/",
     "height": 411
    },
    "colab_type": "code",
    "id": "RK3qIfHIcwqv",
    "outputId": "925e5d7d-5bf3-4ba9-a8d7-e85fa71f02af"
   },
   "outputs": [
    {
     "name": "stderr",
     "output_type": "stream",
     "text": [
      "/usr/local/lib/python3.6/dist-packages/sklearn/utils/deprecation.py:58: DeprecationWarning: Class Imputer is deprecated; Imputer was deprecated in version 0.20 and will be removed in 0.22. Import impute.SimpleImputer from sklearn instead.\n",
      "  warnings.warn(msg, category=DeprecationWarning)\n"
     ]
    }
   ],
   "source": [
    "num_pipeline = Pipeline([\n",
    "        ('selector', DataFrameSelector(num_attribs)),\n",
    "        ('imputer', Imputer(strategy=\"median\")),\n",
    "        ('std_scaler', StandardScaler()),\n",
    "    ])\n",
    "cat_pipeline = Pipeline([\n",
    "        ('selector', DataFrameSelector(cat_attribs)),\n",
    "        ('imputer', SimpleImputer(strategy='most_frequent')),\n",
    "        ('ohe', OneHotEncoder(sparse=False, handle_unknown=\"ignore\"))\n",
    "    ])\n",
    "full_pipeline = FeatureUnion(transformer_list=[\n",
    "        (\"num_pipeline\", num_pipeline),\n",
    "        (\"cat_pipeline\", cat_pipeline),\n",
    "    ])"
   ]
  },
  {
   "cell_type": "code",
   "execution_count": 34,
   "metadata": {
    "ExecuteTime": {
     "end_time": "2019-04-11T04:41:04.963659Z",
     "start_time": "2019-04-11T04:41:04.961522Z"
    }
   },
   "outputs": [],
   "source": [
    "# Tranform the data"
   ]
  },
  {
   "cell_type": "code",
   "execution_count": 0,
   "metadata": {
    "colab": {},
    "colab_type": "code",
    "id": "O0myEOKDczeh"
   },
   "outputs": [],
   "source": [
    "x_train = full_pipeline.fit_transform(X_train)\n",
    "x_test = full_pipeline.fit_transform(X_test)"
   ]
  },
  {
   "cell_type": "code",
   "execution_count": 36,
   "metadata": {
    "ExecuteTime": {
     "end_time": "2019-04-11T04:42:02.549338Z",
     "start_time": "2019-04-11T04:42:02.547179Z"
    }
   },
   "outputs": [],
   "source": [
    "# The train and test sets above have been transformed and encoder and ready for training\n",
    "# The first algorithm will be the XGBClassifier"
   ]
  },
  {
   "cell_type": "markdown",
   "metadata": {
    "colab_type": "text",
    "id": "kyRVo9ivLkbF"
   },
   "source": [
    "#  XGBClassifier"
   ]
  },
  {
   "cell_type": "code",
   "execution_count": 0,
   "metadata": {
    "colab": {},
    "colab_type": "code",
    "id": "ZPz25yawL242"
   },
   "outputs": [],
   "source": [
    "score = pd.DataFrame(columns=['Classifier','AUC','Accuracy'])"
   ]
  },
  {
   "cell_type": "code",
   "execution_count": 0,
   "metadata": {
    "colab": {},
    "colab_type": "code",
    "id": "7D_zrXQdlFWK"
   },
   "outputs": [],
   "source": [
    "xgtrain = xgb.XGBClassifier(max_depth=6,\n",
    "                           min_child_weight=1,\n",
    "                           learning_rate=0.1,\n",
    "                           n_estimators=500,\n",
    "                           silent=True,\n",
    "                           objective='binary:logistic',\n",
    "                           gamma=0.5,\n",
    "                           max_delta_step=1,\n",
    "                           subsample=0.5,\n",
    "                           colsample_bytree=0.5,\n",
    "                           colsample_bylevel=1,\n",
    "                           reg_alpha=0,\n",
    "                           reg_lambda=0,\n",
    "                           scale_pos_weight=5,\n",
    "                           seed=1,\n",
    "                           random_state=28,\n",
    "                           missing=None)"
   ]
  },
  {
   "cell_type": "code",
   "execution_count": 272,
   "metadata": {
    "colab": {
     "base_uri": "https://localhost:8080/",
     "height": 430
    },
    "colab_type": "code",
    "id": "7u8tLGfvc80i",
    "outputId": "8b9796a6-307e-4359-d2fd-0dddc513a743"
   },
   "outputs": [
    {
     "name": "stderr",
     "output_type": "stream",
     "text": [
      "/usr/local/lib/python3.6/dist-packages/sklearn/preprocessing/label.py:252: DataConversionWarning: A column-vector y was passed when a 1d array was expected. Please change the shape of y to (n_samples, ), for example using ravel().\n",
      "  y = column_or_1d(y, warn=True)\n"
     ]
    },
    {
     "data": {
      "text/plain": [
       "XGBClassifier(base_score=0.5, booster='gbtree', colsample_bylevel=1,\n",
       "       colsample_bytree=0.5, gamma=0.5, learning_rate=0.1,\n",
       "       max_delta_step=1, max_depth=6, min_child_weight=1, missing=None,\n",
       "       n_estimators=500, n_jobs=1, nthread=None,\n",
       "       objective='binary:logistic', random_state=28, reg_alpha=0,\n",
       "       reg_lambda=0, scale_pos_weight=5, seed=1, silent=True,\n",
       "       subsample=0.5)"
      ]
     },
     "execution_count": 272,
     "metadata": {
      "tags": []
     },
     "output_type": "execute_result"
    }
   ],
   "source": [
    "xgtrain.fit(x_train,y_train.values.ravel(),eval_metric='auc',verbose=False,eval_set=[(x_test,y_test)],early_stopping_rounds=100)"
   ]
  },
  {
   "cell_type": "code",
   "execution_count": 37,
   "metadata": {
    "ExecuteTime": {
     "end_time": "2019-04-11T04:42:59.966301Z",
     "start_time": "2019-04-11T04:42:59.964318Z"
    }
   },
   "outputs": [],
   "source": [
    "# Use the fitted algorithm to predict the sample test data and store the result in a dataframe"
   ]
  },
  {
   "cell_type": "code",
   "execution_count": 0,
   "metadata": {
    "colab": {},
    "colab_type": "code",
    "id": "PxaFh8tGkdbw"
   },
   "outputs": [],
   "source": [
    "preds = xgtrain.predict(x_test)\n",
    "pred_p = xgtrain.predict_proba(x_test)[:, 1]"
   ]
  },
  {
   "cell_type": "code",
   "execution_count": 0,
   "metadata": {
    "colab": {},
    "colab_type": "code",
    "id": "u6mfiAwGlgjH"
   },
   "outputs": [],
   "source": [
    "accuracy = np.round(accuracy_score(y_test, preds),2)\n",
    "auc = np.round(roc_auc_score(y_test,pred_p),2)"
   ]
  },
  {
   "cell_type": "code",
   "execution_count": 0,
   "metadata": {
    "colab": {},
    "colab_type": "code",
    "id": "rhn-7Q9eMhjx"
   },
   "outputs": [],
   "source": [
    "score.loc[len(score)] = [\"XGBoostClassifier\",auc,accuracy]"
   ]
  },
  {
   "cell_type": "code",
   "execution_count": 468,
   "metadata": {
    "colab": {
     "base_uri": "https://localhost:8080/",
     "height": 80
    },
    "colab_type": "code",
    "id": "7U96Y1MjNjw8",
    "outputId": "2ea2c472-73f1-4cbf-ebfa-802909d5d4e0"
   },
   "outputs": [
    {
     "data": {
      "text/html": [
       "<div>\n",
       "<style scoped>\n",
       "    .dataframe tbody tr th:only-of-type {\n",
       "        vertical-align: middle;\n",
       "    }\n",
       "\n",
       "    .dataframe tbody tr th {\n",
       "        vertical-align: top;\n",
       "    }\n",
       "\n",
       "    .dataframe thead th {\n",
       "        text-align: right;\n",
       "    }\n",
       "</style>\n",
       "<table border=\"1\" class=\"dataframe\">\n",
       "  <thead>\n",
       "    <tr style=\"text-align: right;\">\n",
       "      <th></th>\n",
       "      <th>Classifier</th>\n",
       "      <th>AUC</th>\n",
       "      <th>Accuracy</th>\n",
       "    </tr>\n",
       "  </thead>\n",
       "  <tbody>\n",
       "    <tr>\n",
       "      <th>0</th>\n",
       "      <td>XGBoostClassifier</td>\n",
       "      <td>0.99</td>\n",
       "      <td>0.98</td>\n",
       "    </tr>\n",
       "  </tbody>\n",
       "</table>\n",
       "</div>"
      ],
      "text/plain": [
       "          Classifier   AUC  Accuracy\n",
       "0  XGBoostClassifier  0.99      0.98"
      ]
     },
     "execution_count": 468,
     "metadata": {
      "tags": []
     },
     "output_type": "execute_result"
    }
   ],
   "source": [
    "score"
   ]
  },
  {
   "cell_type": "code",
   "execution_count": null,
   "metadata": {},
   "outputs": [],
   "source": [
    "# The classifier gives a AUC value of 0.99 and Accuracy of 0.98 on the sample test data.\n",
    "# This is pretty good."
   ]
  },
  {
   "cell_type": "code",
   "execution_count": null,
   "metadata": {},
   "outputs": [],
   "source": [
    "# The second classifier will be the KNeighbors classifier."
   ]
  },
  {
   "cell_type": "markdown",
   "metadata": {
    "colab_type": "text",
    "id": "Q5GIzT8bOLgH"
   },
   "source": [
    "# KNeighbors Classifier"
   ]
  },
  {
   "cell_type": "code",
   "execution_count": 0,
   "metadata": {
    "colab": {},
    "colab_type": "code",
    "id": "uHBx80jjP8nb"
   },
   "outputs": [],
   "source": [
    "from sklearn.neighbors import KNeighborsClassifier"
   ]
  },
  {
   "cell_type": "code",
   "execution_count": 0,
   "metadata": {
    "colab": {},
    "colab_type": "code",
    "id": "fOAFaJG9VLbu"
   },
   "outputs": [],
   "source": [
    "neigh = KNeighborsClassifier(n_neighbors=3,\n",
    "                             n_jobs=-1,\n",
    "                             metric='euclidean',\n",
    "                             weights='distance')"
   ]
  },
  {
   "cell_type": "code",
   "execution_count": 454,
   "metadata": {
    "colab": {
     "base_uri": "https://localhost:8080/",
     "height": 88
    },
    "colab_type": "code",
    "id": "o3qgURkrVPxE",
    "outputId": "cd0657eb-d1a1-47a1-d0f7-f0943439d3e9"
   },
   "outputs": [
    {
     "data": {
      "text/plain": [
       "KNeighborsClassifier(algorithm='auto', leaf_size=30, metric='euclidean',\n",
       "           metric_params=None, n_jobs=-1, n_neighbors=3, p=2,\n",
       "           weights='distance')"
      ]
     },
     "execution_count": 454,
     "metadata": {
      "tags": []
     },
     "output_type": "execute_result"
    }
   ],
   "source": [
    "neigh.fit(x_train,y_train.values.ravel())"
   ]
  },
  {
   "cell_type": "code",
   "execution_count": 38,
   "metadata": {
    "ExecuteTime": {
     "end_time": "2019-04-11T04:45:28.443120Z",
     "start_time": "2019-04-11T04:45:28.441042Z"
    }
   },
   "outputs": [],
   "source": [
    "# The traint Kneighbors classifier is the used to predict the sample test data abd the score stored in a dataframe"
   ]
  },
  {
   "cell_type": "code",
   "execution_count": 0,
   "metadata": {
    "colab": {},
    "colab_type": "code",
    "id": "nbEaH6McVk83"
   },
   "outputs": [],
   "source": [
    "k_pred = neigh.predict(x_test)\n",
    "k_pred_p = neigh.predict_proba(x_test)[:,1]"
   ]
  },
  {
   "cell_type": "code",
   "execution_count": 0,
   "metadata": {
    "colab": {},
    "colab_type": "code",
    "id": "63Bb4AjAVzeM"
   },
   "outputs": [],
   "source": [
    "k_accuracy = np.round(accuracy_score(y_test, k_pred),2)\n",
    "k_auc = np.round(roc_auc_score(y_test,k_pred_p),2)"
   ]
  },
  {
   "cell_type": "code",
   "execution_count": 0,
   "metadata": {
    "colab": {},
    "colab_type": "code",
    "id": "4BfNoBJvWvXu"
   },
   "outputs": [],
   "source": [
    "score.loc[len(score)] = [\"KNeighborsClassifier\",k_auc,k_accuracy]"
   ]
  },
  {
   "cell_type": "code",
   "execution_count": 471,
   "metadata": {
    "colab": {
     "base_uri": "https://localhost:8080/",
     "height": 111
    },
    "colab_type": "code",
    "id": "WKC75MJwW0Kx",
    "outputId": "dd21291b-54e7-4963-fccd-e1aef5722d03"
   },
   "outputs": [
    {
     "data": {
      "text/html": [
       "<div>\n",
       "<style scoped>\n",
       "    .dataframe tbody tr th:only-of-type {\n",
       "        vertical-align: middle;\n",
       "    }\n",
       "\n",
       "    .dataframe tbody tr th {\n",
       "        vertical-align: top;\n",
       "    }\n",
       "\n",
       "    .dataframe thead th {\n",
       "        text-align: right;\n",
       "    }\n",
       "</style>\n",
       "<table border=\"1\" class=\"dataframe\">\n",
       "  <thead>\n",
       "    <tr style=\"text-align: right;\">\n",
       "      <th></th>\n",
       "      <th>Classifier</th>\n",
       "      <th>AUC</th>\n",
       "      <th>Accuracy</th>\n",
       "    </tr>\n",
       "  </thead>\n",
       "  <tbody>\n",
       "    <tr>\n",
       "      <th>0</th>\n",
       "      <td>XGBoostClassifier</td>\n",
       "      <td>0.99</td>\n",
       "      <td>0.98</td>\n",
       "    </tr>\n",
       "    <tr>\n",
       "      <th>1</th>\n",
       "      <td>KNeighborsClassifier</td>\n",
       "      <td>0.93</td>\n",
       "      <td>0.92</td>\n",
       "    </tr>\n",
       "  </tbody>\n",
       "</table>\n",
       "</div>"
      ],
      "text/plain": [
       "             Classifier   AUC  Accuracy\n",
       "0     XGBoostClassifier  0.99      0.98\n",
       "1  KNeighborsClassifier  0.93      0.92"
      ]
     },
     "execution_count": 471,
     "metadata": {
      "tags": []
     },
     "output_type": "execute_result"
    }
   ],
   "source": [
    "score"
   ]
  },
  {
   "cell_type": "code",
   "execution_count": null,
   "metadata": {},
   "outputs": [],
   "source": [
    "# The performance of the XGBClassifier is the better performer of the two algorithms."
   ]
  },
  {
   "cell_type": "code",
   "execution_count": 39,
   "metadata": {
    "ExecuteTime": {
     "end_time": "2019-04-11T04:46:57.889287Z",
     "start_time": "2019-04-11T04:46:57.886959Z"
    }
   },
   "outputs": [],
   "source": [
    "# We can then used the algorithms to predict the y values of the provided test set"
   ]
  },
  {
   "cell_type": "markdown",
   "metadata": {
    "colab_type": "text",
    "id": "azKLC1GFlsSj"
   },
   "source": [
    "# Predict using Given Test Data"
   ]
  },
  {
   "cell_type": "code",
   "execution_count": 0,
   "metadata": {
    "colab": {},
    "colab_type": "code",
    "id": "irr1vkJYfO22"
   },
   "outputs": [],
   "source": [
    "# First perform pre-processing and transformation of the given data.\n",
    "x_test_val = full_pipeline.fit_transform(test_data)"
   ]
  },
  {
   "cell_type": "code",
   "execution_count": 484,
   "metadata": {
    "colab": {
     "base_uri": "https://localhost:8080/",
     "height": 34
    },
    "colab_type": "code",
    "id": "_RZNFL-tlzro",
    "outputId": "acf74864-9d70-4c7a-c2fd-7c54f16bfa94"
   },
   "outputs": [
    {
     "data": {
      "text/plain": [
       "(10000, 127)"
      ]
     },
     "execution_count": 484,
     "metadata": {
      "tags": []
     },
     "output_type": "execute_result"
    }
   ],
   "source": [
    "x_test_val.shape"
   ]
  },
  {
   "cell_type": "code",
   "execution_count": 0,
   "metadata": {
    "colab": {},
    "colab_type": "code",
    "id": "orLChzMnnpDh"
   },
   "outputs": [],
   "source": [
    "#Predit using XGBoostClassifier"
   ]
  },
  {
   "cell_type": "code",
   "execution_count": 0,
   "metadata": {
    "colab": {},
    "colab_type": "code",
    "id": "GmJiLnxCmpIj"
   },
   "outputs": [],
   "source": [
    "preds_val1 = xgtrain.predict(x_test_val)"
   ]
  },
  {
   "cell_type": "code",
   "execution_count": 0,
   "metadata": {
    "colab": {},
    "colab_type": "code",
    "id": "acnkw5Ujnytb"
   },
   "outputs": [],
   "source": [
    "# Store the predicted results in a file\n",
    "pd.DataFrame(preds_val1).to_csv('results1.csv',header=False,index=False)"
   ]
  },
  {
   "cell_type": "code",
   "execution_count": 0,
   "metadata": {
    "colab": {},
    "colab_type": "code",
    "id": "mFAVA_yroBFD"
   },
   "outputs": [],
   "source": [
    "#Predict using KNeighborsClassifier"
   ]
  },
  {
   "cell_type": "code",
   "execution_count": 0,
   "metadata": {
    "colab": {},
    "colab_type": "code",
    "id": "diYZQX5QoG3O"
   },
   "outputs": [],
   "source": [
    "preds_val2 = neigh.predict(x_test_val)"
   ]
  },
  {
   "cell_type": "code",
   "execution_count": 41,
   "metadata": {
    "ExecuteTime": {
     "end_time": "2019-04-11T04:48:05.949980Z",
     "start_time": "2019-04-11T04:48:05.947842Z"
    },
    "colab": {},
    "colab_type": "code",
    "id": "BVuCk6zIoWYh"
   },
   "outputs": [],
   "source": [
    "# Store the predicted results in a file\n",
    "pd.DataFrame(preds_val2).to_csv('results2.csv',header=False,index=False)"
   ]
  },
  {
   "cell_type": "markdown",
   "metadata": {
    "colab": {},
    "colab_type": "code",
    "id": "LVTJ8ymjoqa1"
   },
   "source": [
    "The two given algorithms function pretty well. However, further model tuning like using gridsearch and randomsearch can be used to further improve performance. KNeighbors Classifier can be quite computationaly intensive due to the need to compute the distance between the samples. It is however quite robust especially when it comes to noisy data. XGboost has great execution speed and great performance."
   ]
  }
 ],
 "metadata": {
  "accelerator": "GPU",
  "colab": {
   "collapsed_sections": [],
   "name": "statefarm.ipynb",
   "provenance": [],
   "version": "0.3.2"
  },
  "kernelspec": {
   "display_name": "Python 3",
   "language": "python",
   "name": "python3"
  },
  "language_info": {
   "codemirror_mode": {
    "name": "ipython",
    "version": 3
   },
   "file_extension": ".py",
   "mimetype": "text/x-python",
   "name": "python",
   "nbconvert_exporter": "python",
   "pygments_lexer": "ipython3",
   "version": "3.7.1"
  },
  "toc": {
   "base_numbering": 1,
   "nav_menu": {},
   "number_sections": true,
   "sideBar": true,
   "skip_h1_title": false,
   "title_cell": "Table of Contents",
   "title_sidebar": "Contents",
   "toc_cell": false,
   "toc_position": {},
   "toc_section_display": true,
   "toc_window_display": false
  }
 },
 "nbformat": 4,
 "nbformat_minor": 1
}
